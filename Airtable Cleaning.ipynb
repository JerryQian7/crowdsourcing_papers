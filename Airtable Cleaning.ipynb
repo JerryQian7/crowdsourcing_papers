{
 "cells": [
  {
   "cell_type": "code",
   "execution_count": 6,
   "metadata": {},
   "outputs": [
    {
     "data": {
      "text/plain": [
       "1249"
      ]
     },
     "execution_count": 6,
     "metadata": {},
     "output_type": "execute_result"
    }
   ],
   "source": [
    "import pandas as pd\n",
    "df = pd.read_csv('airtable_papers.csv')\n",
    "len(df)"
   ]
  },
  {
   "cell_type": "code",
   "execution_count": 8,
   "metadata": {},
   "outputs": [
    {
     "data": {
      "text/plain": [
       "1024"
      ]
     },
     "execution_count": 8,
     "metadata": {},
     "output_type": "execute_result"
    }
   ],
   "source": [
    "df = df[df['URL'].notna()]\n",
    "len(df)"
   ]
  },
  {
   "cell_type": "code",
   "execution_count": 4,
   "metadata": {},
   "outputs": [
    {
     "data": {
      "text/plain": [
       "array(['https://royalsocietypublishing.org/doi/full/10.1098/rsif.2012.0132',\n",
       "       'https://jeb.biologists.org/content/223/20/jeb226654',\n",
       "       'https://www.nature.com/articles/s42004-019-0202-8  https://science.sciencemag.org/content/315/5810/348',\n",
       "       'https://zslpublications.onlinelibrary.wiley.com/doi/abs/10.1111/j.1469-7998.1973.tb04553.x',\n",
       "       'https://www.yumpu.com/en/document/read/40748212/toward-biomimetic-architecture-annapujadascat',\n",
       "       'https://www.uregina.ca/science/biology/people/faculty-research/brigham-mark/files/Woods_and_Brigham_2004_LITC.pdf',\n",
       "       'https://www.tandfonline.com/doi/pdf/10.1080/15376490590928598',\n",
       "       'https://www.tandfonline.com/doi/full/10.4161/psb.4.9.9426?scroll=top&needAccess=true',\n",
       "       'https://www.tandfonline.com/doi/abs/10.1271/bbb.100692',\n",
       "       'https://www.tandfonline.com/doi/abs/10.1080/17088180809434786'],\n",
       "      dtype=object)"
      ]
     },
     "execution_count": 4,
     "metadata": {},
     "output_type": "execute_result"
    }
   ],
   "source": [
    "df['URL'].values[:10]"
   ]
  },
  {
   "cell_type": "code",
   "execution_count": 11,
   "metadata": {},
   "outputs": [],
   "source": [
    "for index, row in df.iterrows():\n",
    "    urls = row['URL'].split(' ')\n",
    "    if len(urls) >= 2:\n",
    "        df = df.drop(index=index)\n",
    "        for url in urls:\n",
    "            data = [row['DOI'], row['Paper title'], row['Abstract'], row['Journal'], url,\n",
    "                   row['Functions'], row['PDF'], row['Press release']]\n",
    "            df.append(data)"
   ]
  },
  {
   "cell_type": "code",
   "execution_count": 18,
   "metadata": {},
   "outputs": [],
   "source": [
    "for url in df['URL'].values:\n",
    "    if len(url.split(' ')) > 2:\n",
    "        print(u)"
   ]
  },
  {
   "cell_type": "code",
   "execution_count": 20,
   "metadata": {},
   "outputs": [],
   "source": [
    "df = df.reset_index()"
   ]
  },
  {
   "cell_type": "code",
   "execution_count": 21,
   "metadata": {},
   "outputs": [],
   "source": [
    "df.to_csv('cleaned_airtable.csv')"
   ]
  },
  {
   "cell_type": "code",
   "execution_count": null,
   "metadata": {},
   "outputs": [],
   "source": []
  }
 ],
 "metadata": {
  "kernelspec": {
   "display_name": "Python 3",
   "language": "python",
   "name": "python3"
  },
  "language_info": {
   "codemirror_mode": {
    "name": "ipython",
    "version": 3
   },
   "file_extension": ".py",
   "mimetype": "text/x-python",
   "name": "python",
   "nbconvert_exporter": "python",
   "pygments_lexer": "ipython3",
   "version": "3.7.0"
  }
 },
 "nbformat": 4,
 "nbformat_minor": 2
}
